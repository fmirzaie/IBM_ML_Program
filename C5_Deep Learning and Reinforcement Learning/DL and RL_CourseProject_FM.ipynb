{
 "cells": [
  {
   "cell_type": "markdown",
   "metadata": {
    "run_control": {
     "marked": true
    }
   },
   "source": [
    "# Deep Learning\n",
    "\n",
    "## Course Project - FM [Date: July 2021]"
   ]
  },
  {
   "cell_type": "markdown",
   "metadata": {
    "run_control": {
     "marked": true
    }
   },
   "source": [
    "### Required Tasks:\n",
    "1.\tMain objective of the analysis that also specifies whether your model will be focused on a specific type of Deep Learning or Reinforcement Learning algorithm and the benefits that your analysis brings to the business or stakeholders of this data.\n",
    "2.\tBrief description of the data set you chose, a summary of its attributes, and an outline of what you are trying to accomplish with this analysis.\n",
    "3.\tBrief summary of data exploration and actions taken for data cleaning or feature engineering.\n",
    "4.\tSummary of training at least three variations of the Deep Learning model you selected. For example, you can use different clustering techniques or different hyperparameters.\n",
    "5.\tA paragraph explaining which of your Deep Learning models you recommend as a final model that best fits your needs in terms of accuracy or explainability.\n",
    "6.\tSummary Key Findings and Insights, which walks your reader through the main findings of your modeling exercise.\n",
    "7.\tSuggestions for next steps in analyzing this data, which may include suggesting revisiting this model or adding specific data features to achieve a better model.\n",
    "\n"
   ]
  },
  {
   "cell_type": "markdown",
   "metadata": {
    "run_control": {
     "marked": true
    }
   },
   "source": [
    "### 1. Main Objectives\n",
    "\n",
    "This project is focused on identifying geometric shapes in images using deep Deep Learning approach (Neural Networks). For this purpose a dataset with ~15000 images of 4 geometric shapes is chosen and 3 neural network architectures are implemented.\n"
   ]
  },
  {
   "cell_type": "markdown",
   "metadata": {
    "run_control": {
     "marked": true
    }
   },
   "source": [
    "### 2. DATASET Description\n",
    "\n",
    "The chosen dataset contains 14,970 black and white images. Each image is 200x200 pixels and depicts one of 4 geomteric shapes:\n",
    "- square\n",
    "- star\n",
    "- circle\n",
    "- triangle\n",
    "\n",
    "\n",
    "(The dataset can be downloaded from: https://www.kaggle.com/smeschke/four-shapes/download)\n"
   ]
  },
  {
   "cell_type": "markdown",
   "metadata": {
    "run_control": {
     "marked": true
    }
   },
   "source": [
    "## 3.1. Brief summary of data exploration:\n",
    "The goal in this section is to better understand the amount and type of information available in the dataset. For this purpose, after importing the needed packages such as numpy, pandas, matplotlib, we will load the dataset and look at a few ample images as well as their attributes.\n"
   ]
  },
  {
   "cell_type": "code",
   "execution_count": 1,
   "metadata": {},
   "outputs": [],
   "source": [
    "# importing needed packages\n",
    "import numpy as np\n",
    "import pandas as pd\n",
    "import os\n",
    "import matplotlib.pyplot as plt\n",
    "import cv2\n",
    "%matplotlib inline\n",
    "\n",
    "import warnings\n",
    "warnings.filterwarnings(\"ignore\")\n",
    "from tensorflow import keras\n",
    "from tensorflow.keras.models import Sequential\n",
    "from tensorflow.keras.layers import Dense, Dropout, Activation, Flatten\n",
    "from tensorflow.keras.layers import Conv2D, MaxPooling2D"
   ]
  },
  {
   "cell_type": "code",
   "execution_count": 4,
   "metadata": {
    "ExecuteTime": {
     "end_time": "2017-03-19T23:17:21.954025Z",
     "start_time": "2017-03-19T19:17:21.936220-04:00"
    },
    "jupyter": {
     "outputs_hidden": false
    },
    "run_control": {
     "marked": true
    }
   },
   "outputs": [
    {
     "name": "stdout",
     "output_type": "stream",
     "text": [
      "triangle\n",
      "star\n",
      "square\n",
      "circle\n"
     ]
    }
   ],
   "source": [
    "\n",
    "# loading and resizing images\n",
    "img_size = 28 #size of image fed into model\n",
    "folders = ['triangle', 'star', 'square', 'circle']\n",
    "num_classes = 4\n",
    "labels = []\n",
    "images = []\n",
    "\n",
    "for i,folder in enumerate(folders):\n",
    "    print(folder)\n",
    "    for file in os.listdir('shapes/'+folder):\n",
    "        fullpath = 'shapes/{}/{}'.format(folder,file)\n",
    "        img = cv2.imread(fullpath,0) # Using 0 to read image in grayscale mode\n",
    "        images.append(cv2.resize(img, (img_size, img_size))) #resizing to 28x28 images\n",
    "        labels.append(i)\n"
   ]
  },
  {
   "cell_type": "code",
   "execution_count": 5,
   "metadata": {
    "ExecuteTime": {
     "end_time": "2017-03-19T23:17:24.151607Z",
     "start_time": "2017-03-19T19:17:24.105167-04:00"
    },
    "jupyter": {
     "outputs_hidden": false
    },
    "run_control": {
     "marked": true
    }
   },
   "outputs": [
    {
     "name": "stdout",
     "output_type": "stream",
     "text": [
      "Number of triangles: 3720\n",
      "Number of stars: 3765\n",
      "Number of squares: 3765\n",
      "Number of circles: 3720\n"
     ]
    }
   ],
   "source": [
    "#showing number of each class\n",
    "for i,folder in enumerate(folders):\n",
    "    print(\"Number of {}s: {}\".format(folder, labels.count(i)))"
   ]
  },
  {
   "cell_type": "code",
   "execution_count": 6,
   "metadata": {
    "ExecuteTime": {
     "end_time": "2017-03-19T23:17:24.151607Z",
     "start_time": "2017-03-19T19:17:24.105167-04:00"
    },
    "jupyter": {
     "outputs_hidden": false
    },
    "run_control": {
     "marked": true
    }
   },
   "outputs": [
    {
     "data": {
      "text/plain": [
       "<matplotlib.image.AxesImage at 0x23cffdb54a8>"
      ]
     },
     "execution_count": 6,
     "metadata": {},
     "output_type": "execute_result"
    },
    {
     "data": {
      "image/png": "[encoded data removed]",
      "text/plain": [
       "<Figure size 432x288 with 4 Axes>"
      ]
     },
     "metadata": {
      "needs_background": "light"
     },
     "output_type": "display_data"
    }
   ],
   "source": [
    "#showing a sample image from each class\n",
    "fig, axs = plt.subplots(2,2)\n",
    "axs[0,0].imshow(images[0],cmap='Greys')\n",
    "axs[0,1].imshow(images[4000],cmap='Greys')\n",
    "axs[1,0].imshow(images[8000],cmap='Greys')\n",
    "axs[1,1].imshow(images[12000],cmap='Greys')"
   ]
  },
  {
   "cell_type": "markdown",
   "metadata": {
    "run_control": {
     "marked": true
    }
   },
   "source": [
    "### 3.2. Actions taken for data cleaning and feature engineering:\n",
    "In this section, to make the data ready for further analysis:\n",
    "- we convert the images to float arrays, and scale and invert values \n",
    "- we convert the labels into a 2-dim array by one-hot encoding\n"
   ]
  },
  {
   "cell_type": "code",
   "execution_count": 12,
   "metadata": {
    "ExecuteTime": {
     "end_time": "2017-03-19T23:17:24.151607Z",
     "start_time": "2017-03-19T19:17:24.105167-04:00"
    },
    "jupyter": {
     "outputs_hidden": false
    },
    "run_control": {
     "marked": true
    }
   },
   "outputs": [
    {
     "name": "stdout",
     "output_type": "stream",
     "text": [
      "(14970, 28, 28)\n"
     ]
    }
   ],
   "source": [
    "# float, scale, invert and flatten images\n",
    "x = np.array(images) #convert list to numpy array\n",
    "x = x.astype('float32') #make float\n",
    "x = x/255.0 #scale to (0,1)\n",
    "x = 1.0 - x #invert\n",
    "\n",
    "print(x.shape) #now each image is a 28x28 numpy arraye with values between 0 and 1\n"
   ]
  },
  {
   "cell_type": "code",
   "execution_count": 14,
   "metadata": {},
   "outputs": [
    {
     "name": "stdout",
     "output_type": "stream",
     "text": [
      "(14970, 4)\n"
     ]
    }
   ],
   "source": [
    "# setting y variable\n",
    "y = keras.utils.to_categorical(labels) # one-hot encoding\n",
    "print(y.shape)"
   ]
  },
  {
   "cell_type": "markdown",
   "metadata": {
    "run_control": {
     "marked": true
    }
   },
   "source": [
    "### 3.3. Stratified Train-Test Split\n",
    "\n"
   ]
  },
  {
   "cell_type": "code",
   "execution_count": 16,
   "metadata": {},
   "outputs": [],
   "source": [
    "# train-test split\n",
    "from sklearn.model_selection import StratifiedShuffleSplit\n",
    "strat_shuf_split = StratifiedShuffleSplit(n_splits=1, test_size=0.15, random_state=1)\n",
    "train_idx, test_idx = next(strat_shuf_split.split(x,y))\n",
    "\n",
    "x_train, y_train = x[train_idx], y[train_idx]\n",
    "x_test, y_test = x[test_idx], y[test_idx]\n"
   ]
  },
  {
   "cell_type": "markdown",
   "metadata": {
    "run_control": {
     "marked": true
    }
   },
   "source": [
    "### 4.\tTraining 3 Neural Networks\n",
    "\n"
   ]
  },
  {
   "cell_type": "code",
   "execution_count": 17,
   "metadata": {},
   "outputs": [],
   "source": [
    "### 4.1. Simple Sequential Neural Network without hidden layers\n",
    "model_1 = Sequential()\n",
    "model_1.add(Flatten(input_shape = (28,28))) #turn 28x28 into 784x1\n",
    "model_1.add(Dense(num_classes)) #Decision layer\n",
    "model_1.add(Activation('softmax'))"
   ]
  },
  {
   "cell_type": "code",
   "execution_count": 18,
   "metadata": {},
   "outputs": [
    {
     "name": "stdout",
     "output_type": "stream",
     "text": [
      "Model: \"sequential\"\n",
      "_________________________________________________________________\n",
      "Layer (type)                 Output Shape              Param #   \n",
      "=================================================================\n",
      "flatten (Flatten)            (None, 784)               0         \n",
      "_________________________________________________________________\n",
      "dense (Dense)                (None, 4)                 3140      \n",
      "_________________________________________________________________\n",
      "activation (Activation)      (None, 4)                 0         \n",
      "=================================================================\n",
      "Total params: 3,140\n",
      "Trainable params: 3,140\n",
      "Non-trainable params: 0\n",
      "_________________________________________________________________\n"
     ]
    }
   ],
   "source": [
    "# model optimizer\n",
    "opt = keras.optimizers.RMSprop(lr=0.0005, decay=1e-6)\n",
    "\n",
    "# model compilation\n",
    "model_1.compile(loss='categorical_crossentropy',optimizer=opt, metrics=['accuracy'])\n",
    "\n",
    "#model summary\n",
    "model_1.summary()"
   ]
  },
  {
   "cell_type": "code",
   "execution_count": 19,
   "metadata": {},
   "outputs": [
    {
     "name": "stdout",
     "output_type": "stream",
     "text": [
      "Epoch 1/10\n",
      "1591/1591 [==============================] - 2s 1ms/step - loss: 0.3524 - accuracy: 0.9109 - val_loss: 0.1057 - val_accuracy: 0.9915\n",
      "Epoch 2/10\n",
      "1591/1591 [==============================] - 2s 1ms/step - loss: 0.0720 - accuracy: 0.9925 - val_loss: 0.0466 - val_accuracy: 0.9964\n",
      "Epoch 3/10\n",
      "1591/1591 [==============================] - 2s 1ms/step - loss: 0.0418 - accuracy: 0.9940 - val_loss: 0.0300 - val_accuracy: 0.9951\n",
      "Epoch 4/10\n",
      "1591/1591 [==============================] - 2s 1ms/step - loss: 0.0326 - accuracy: 0.9942 - val_loss: 0.0218 - val_accuracy: 0.9964\n",
      "Epoch 5/10\n",
      "1591/1591 [==============================] - 2s 1ms/step - loss: 0.0280 - accuracy: 0.9950 - val_loss: 0.0187 - val_accuracy: 0.9964\n",
      "Epoch 6/10\n",
      "1591/1591 [==============================] - 2s 1ms/step - loss: 0.0258 - accuracy: 0.9950 - val_loss: 0.0182 - val_accuracy: 0.9955\n",
      "Epoch 7/10\n",
      "1591/1591 [==============================] - 2s 1ms/step - loss: 0.0246 - accuracy: 0.9950 - val_loss: 0.0138 - val_accuracy: 0.9978s: 0.0262 - accu\n",
      "Epoch 8/10\n",
      "1591/1591 [==============================] - 2s 1ms/step - loss: 0.0229 - accuracy: 0.9956 - val_loss: 0.0128 - val_accuracy: 0.9978\n",
      "Epoch 9/10\n",
      "1591/1591 [==============================] - 2s 1ms/step - loss: 0.0223 - accuracy: 0.9955 - val_loss: 0.0126 - val_accuracy: 0.9973\n",
      "Epoch 10/10\n",
      "1591/1591 [==============================] - 2s 1ms/step - loss: 0.0219 - accuracy: 0.9958 - val_loss: 0.0132 - val_accuracy: 0.9964\n"
     ]
    }
   ],
   "source": [
    "# fit model\n",
    "batch_size = 8\n",
    "history_1 = model_1.fit(x_train, y_train, batch_size=batch_size, epochs=10, validation_data=(x_test, y_test),shuffle=True)"
   ]
  },
  {
   "cell_type": "code",
   "execution_count": 20,
   "metadata": {},
   "outputs": [
    {
     "name": "stdout",
     "output_type": "stream",
     "text": [
      "final accuracy for model_1: 0.9964\n"
     ]
    },
    {
     "data": {
      "image/png": "[encoded data removed]",
      "text/plain": [
       "<Figure size 864x432 with 2 Axes>"
      ]
     },
     "metadata": {
      "needs_background": "light"
     },
     "output_type": "display_data"
    }
   ],
   "source": [
    "# plot loss/accuracy:\n",
    "n = len(history_1.history[\"loss\"])\n",
    "fig = plt.figure(figsize=(12, 6))\n",
    "ax = fig.add_subplot(1, 2, 1)\n",
    "ax.plot(range(n), (history_1.history[\"loss\"]),'r',marker = 'x', label=\"Train Loss\")\n",
    "ax.plot(range(n), (history_1.history[\"val_loss\"]),'b',marker = 'x', label=\"Validation Loss\")\n",
    "ax.set_xlim([0,10])\n",
    "ax.legend()\n",
    "ax.set_title('Loss over iterations')\n",
    "\n",
    "ax = fig.add_subplot(1, 2, 2)\n",
    "ax.plot(range(n), (history_1.history[\"accuracy\"]),'r',marker = 'x', label=\"Train Acc\")\n",
    "ax.plot(range(n), (history_1.history[\"val_accuracy\"]),'b',marker = 'x', label=\"Validation Acc\")\n",
    "ax.set_xlim([0,10])\n",
    "ax.legend(loc='lower right')\n",
    "ax.set_title('Accuracy over iterations')\n",
    "\n",
    "print(\"final accuracy for model_1: {:.4f}\".format(history_1.history[\"val_accuracy\"][-1]))\n"
   ]
  },
  {
   "cell_type": "code",
   "execution_count": 21,
   "metadata": {},
   "outputs": [],
   "source": [
    "### 4.2. Sequential Neural Network with hidden layers\n",
    "model_2 = Sequential()\n",
    "model_2.add(Flatten(input_shape = (28,28))) #turn 28x28 into 784x1\n",
    "model_2.add(Dense(64,activation = 'relu')) #hidden layer 1\n",
    "model_2.add(Dense(16,activation = 'relu')) #hidden layer 1\n",
    "model_2.add(Dropout(0.5)) #Dropout layer\n",
    "model_2.add(Dense(num_classes)) #Decision layer\n",
    "model_2.add(Activation('softmax'))\n"
   ]
  },
  {
   "cell_type": "code",
   "execution_count": 22,
   "metadata": {},
   "outputs": [
    {
     "name": "stdout",
     "output_type": "stream",
     "text": [
      "Model: \"sequential_1\"\n",
      "_________________________________________________________________\n",
      "Layer (type)                 Output Shape              Param #   \n",
      "=================================================================\n",
      "flatten_1 (Flatten)          (None, 784)               0         \n",
      "_________________________________________________________________\n",
      "dense_1 (Dense)              (None, 64)                50240     \n",
      "_________________________________________________________________\n",
      "dense_2 (Dense)              (None, 16)                1040      \n",
      "_________________________________________________________________\n",
      "dropout (Dropout)            (None, 16)                0         \n",
      "_________________________________________________________________\n",
      "dense_3 (Dense)              (None, 4)                 68        \n",
      "_________________________________________________________________\n",
      "activation_1 (Activation)    (None, 4)                 0         \n",
      "=================================================================\n",
      "Total params: 51,348\n",
      "Trainable params: 51,348\n",
      "Non-trainable params: 0\n",
      "_________________________________________________________________\n"
     ]
    }
   ],
   "source": [
    "# model optimizer\n",
    "opt = keras.optimizers.RMSprop(lr=0.0005, decay=1e-6)\n",
    "\n",
    "# model compilation\n",
    "model_2.compile(loss='categorical_crossentropy',optimizer=opt, metrics=['accuracy'])\n",
    "\n",
    "#model summary\n",
    "model_2.summary()"
   ]
  },
  {
   "cell_type": "code",
   "execution_count": 23,
   "metadata": {},
   "outputs": [
    {
     "name": "stdout",
     "output_type": "stream",
     "text": [
      "Epoch 1/10\n",
      "1591/1591 [==============================] - 3s 2ms/step - loss: 0.3563 - accuracy: 0.8475 - val_loss: 0.0156 - val_accuracy: 0.9955\n",
      "Epoch 2/10\n",
      "1591/1591 [==============================] - 3s 2ms/step - loss: 0.1466 - accuracy: 0.9300 - val_loss: 0.0048 - val_accuracy: 0.9987\n",
      "Epoch 3/10\n",
      "1591/1591 [==============================] - 3s 2ms/step - loss: 0.1078 - accuracy: 0.9455 - val_loss: 7.4459e-04 - val_accuracy: 1.0000\n",
      "Epoch 4/10\n",
      "1591/1591 [==============================] - 3s 2ms/step - loss: 0.0888 - accuracy: 0.9558 - val_loss: 9.3889e-04 - val_accuracy: 1.0000\n",
      "Epoch 5/10\n",
      "1591/1591 [==============================] - 3s 2ms/step - loss: 0.0846 - accuracy: 0.9583 - val_loss: 0.0013 - val_accuracy: 0.9996\n",
      "Epoch 6/10\n",
      "1591/1591 [==============================] - 2s 2ms/step - loss: 0.0816 - accuracy: 0.9609 - val_loss: 0.0038 - val_accuracy: 0.9987\n",
      "Epoch 7/10\n",
      "1591/1591 [==============================] - 2s 2ms/step - loss: 0.0849 - accuracy: 0.9609 - val_loss: 2.9382e-04 - val_accuracy: 1.0000\n",
      "Epoch 8/10\n",
      "1591/1591 [==============================] - 3s 2ms/step - loss: 0.0795 - accuracy: 0.9645 - val_loss: 7.3018e-05 - val_accuracy: 1.0000\n",
      "Epoch 9/10\n",
      "1591/1591 [==============================] - 3s 2ms/step - loss: 0.0792 - accuracy: 0.9660 - val_loss: 6.7076e-04 - val_accuracy: 0.9996\n",
      "Epoch 10/10\n",
      "1591/1591 [==============================] - 3s 2ms/step - loss: 0.0806 - accuracy: 0.9694 - val_loss: 0.0017 - val_accuracy: 0.9991\n"
     ]
    }
   ],
   "source": [
    "#fit model\n",
    "batch_size = 8\n",
    "history_2 = model_2.fit(x_train, y_train, batch_size=batch_size, epochs=10, validation_data=(x_test, y_test),shuffle=True)"
   ]
  },
  {
   "cell_type": "code",
   "execution_count": 24,
   "metadata": {},
   "outputs": [
    {
     "name": "stdout",
     "output_type": "stream",
     "text": [
      "final accuracy for model_2: 0.9991\n"
     ]
    },
    {
     "data": {
      "image/png": "[encoded data removed]",
      "text/plain": [
       "<Figure size 864x432 with 2 Axes>"
      ]
     },
     "metadata": {
      "needs_background": "light"
     },
     "output_type": "display_data"
    }
   ],
   "source": [
    "# plot loss/accuracy:\n",
    "n = len(history_2.history[\"loss\"])\n",
    "fig = plt.figure(figsize=(12, 6))\n",
    "ax = fig.add_subplot(1, 2, 1)\n",
    "ax.plot(range(n), (history_2.history[\"loss\"]),'r',marker = 'x', label=\"Train Loss\")\n",
    "ax.plot(range(n), (history_2.history[\"val_loss\"]),'b',marker = 'x', label=\"Validation Loss\")\n",
    "ax.set_xlim([0,10])\n",
    "ax.legend()\n",
    "ax.set_title('Loss over iterations')\n",
    "\n",
    "ax = fig.add_subplot(1, 2, 2)\n",
    "ax.plot(range(n), (history_2.history[\"accuracy\"]),'r',marker = 'x', label=\"Train Acc\")\n",
    "ax.plot(range(n), (history_2.history[\"val_accuracy\"]),'b',marker = 'x', label=\"Validation Acc\")\n",
    "ax.set_xlim([0,10])\n",
    "ax.legend(loc='lower right')\n",
    "ax.set_title('Accuracy over iterations')\n",
    "\n",
    "print(\"final accuracy for model_2: {:.4f}\".format(history_2.history[\"val_accuracy\"][-1]))"
   ]
  },
  {
   "cell_type": "code",
   "execution_count": 25,
   "metadata": {},
   "outputs": [],
   "source": [
    "### 4.3. Sequential Convolutional Neural Network\n",
    "x_train = x_train.reshape(-1,28,28,1)\n",
    "x_test = x_test.reshape(-1,28,28,1)\n",
    "\n",
    "model_3 = Sequential()\n",
    "model_3.add(Conv2D(28, (3, 3), strides = (2,2), padding='valid', input_shape=x_train.shape[1:]))\n",
    "model_3.add(Activation('relu'))\n",
    "\n",
    "model_3.add(MaxPooling2D(pool_size=(2,2)))\n",
    "model_3.add(Dropout(0.5))\n",
    "\n",
    "model_3.add(Flatten())\n",
    "model_3.add(Dense(num_classes))\n",
    "model_3.add(Activation('softmax'))\n"
   ]
  },
  {
   "cell_type": "code",
   "execution_count": 26,
   "metadata": {},
   "outputs": [
    {
     "name": "stdout",
     "output_type": "stream",
     "text": [
      "Model: \"sequential_2\"\n",
      "_________________________________________________________________\n",
      "Layer (type)                 Output Shape              Param #   \n",
      "=================================================================\n",
      "conv2d (Conv2D)              (None, 13, 13, 28)        280       \n",
      "_________________________________________________________________\n",
      "activation_2 (Activation)    (None, 13, 13, 28)        0         \n",
      "_________________________________________________________________\n",
      "max_pooling2d (MaxPooling2D) (None, 6, 6, 28)          0         \n",
      "_________________________________________________________________\n",
      "dropout_1 (Dropout)          (None, 6, 6, 28)          0         \n",
      "_________________________________________________________________\n",
      "flatten_2 (Flatten)          (None, 1008)              0         \n",
      "_________________________________________________________________\n",
      "dense_4 (Dense)              (None, 4)                 4036      \n",
      "_________________________________________________________________\n",
      "activation_3 (Activation)    (None, 4)                 0         \n",
      "=================================================================\n",
      "Total params: 4,316\n",
      "Trainable params: 4,316\n",
      "Non-trainable params: 0\n",
      "_________________________________________________________________\n"
     ]
    }
   ],
   "source": [
    "# model optimizer\n",
    "opt = keras.optimizers.RMSprop(lr=0.0005, decay=1e-6)\n",
    "\n",
    "# model compilation\n",
    "model_3.compile(loss='categorical_crossentropy',optimizer=opt, metrics=['accuracy'])\n",
    "\n",
    "#model summary\n",
    "model_3.summary()"
   ]
  },
  {
   "cell_type": "code",
   "execution_count": 27,
   "metadata": {},
   "outputs": [
    {
     "name": "stdout",
     "output_type": "stream",
     "text": [
      "Epoch 1/10\n",
      "1591/1591 [==============================] - 4s 3ms/step - loss: 0.4356 - accuracy: 0.8618 - val_loss: 0.1052 - val_accuracy: 0.9862\n",
      "Epoch 2/10\n",
      "1591/1591 [==============================] - 4s 3ms/step - loss: 0.0932 - accuracy: 0.9764 - val_loss: 0.0339 - val_accuracy: 0.9924\n",
      "Epoch 3/10\n",
      "1591/1591 [==============================] - 4s 3ms/step - loss: 0.0530 - accuracy: 0.9870 - val_loss: 0.0162 - val_accuracy: 0.9978\n",
      "Epoch 4/10\n",
      "1591/1591 [==============================] - 4s 2ms/step - loss: 0.0386 - accuracy: 0.9895 - val_loss: 0.0115 - val_accuracy: 0.9987\n",
      "Epoch 5/10\n",
      "1591/1591 [==============================] - 4s 3ms/step - loss: 0.0339 - accuracy: 0.9906 - val_loss: 0.0089 - val_accuracy: 0.9978\n",
      "Epoch 6/10\n",
      "1591/1591 [==============================] - 4s 2ms/step - loss: 0.0293 - accuracy: 0.9926 - val_loss: 0.0076 - val_accuracy: 0.9982\n",
      "Epoch 7/10\n",
      "1591/1591 [==============================] - 3s 2ms/step - loss: 0.0269 - accuracy: 0.9932 - val_loss: 0.0087 - val_accuracy: 0.9973\n",
      "Epoch 8/10\n",
      "1591/1591 [==============================] - 4s 3ms/step - loss: 0.0273 - accuracy: 0.9932 - val_loss: 0.0058 - val_accuracy: 0.9991\n",
      "Epoch 9/10\n",
      "1591/1591 [==============================] - 4s 3ms/step - loss: 0.0236 - accuracy: 0.9948 - val_loss: 0.0054 - val_accuracy: 0.9987\n",
      "Epoch 10/10\n",
      "1591/1591 [==============================] - 4s 3ms/step - loss: 0.0214 - accuracy: 0.9950 - val_loss: 0.0055 - val_accuracy: 0.9987\n"
     ]
    }
   ],
   "source": [
    "# fit model\n",
    "batch_size = 8\n",
    "history_3 = model_3.fit(x_train, y_train, batch_size=batch_size, epochs=10, validation_data=(x_test, y_test),shuffle=True)"
   ]
  },
  {
   "cell_type": "code",
   "execution_count": 28,
   "metadata": {},
   "outputs": [
    {
     "name": "stdout",
     "output_type": "stream",
     "text": [
      "final accuracy for model_3: 0.9987\n"
     ]
    },
    {
     "data": {
      "image/png": "[encoded data removed]",
      "text/plain": [
       "<Figure size 864x432 with 2 Axes>"
      ]
     },
     "metadata": {
      "needs_background": "light"
     },
     "output_type": "display_data"
    }
   ],
   "source": [
    "# plot loss/accuracy:\n",
    "n = len(history_3.history[\"loss\"])\n",
    "fig = plt.figure(figsize=(12, 6))\n",
    "ax = fig.add_subplot(1, 2, 1)\n",
    "ax.plot(range(n), (history_3.history[\"loss\"]),'r',marker = 'x', label=\"Train Loss\")\n",
    "ax.plot(range(n), (history_3.history[\"val_loss\"]),'b',marker = 'x', label=\"Validation Loss\")\n",
    "ax.set_xlim([0,10])\n",
    "ax.legend()\n",
    "ax.set_title('Loss over iterations')\n",
    "\n",
    "ax = fig.add_subplot(1, 2, 2)\n",
    "ax.plot(range(n), (history_3.history[\"accuracy\"]),'r',marker = 'x', label=\"Train Acc\")\n",
    "ax.plot(range(n), (history_3.history[\"val_accuracy\"]),'b',marker = 'x', label=\"Validation Acc\")\n",
    "ax.set_xlim([0,10])\n",
    "ax.legend(loc='lower right')\n",
    "ax.set_title('Accuracy over iterations')\n",
    "\n",
    "print(\"final accuracy for model_3: {:.4f}\".format(history_3.history[\"val_accuracy\"][-1]))\n"
   ]
  },
  {
   "cell_type": "markdown",
   "metadata": {
    "run_control": {
     "marked": true
    }
   },
   "source": [
    "### 5.\tFinal model recommendation\n",
    "Comparing the results, all 3 models are doing pretty good job for the given datasets. However, Convolutional Neural Netwroks are proven to be more effeicient for working with images. As such, model 3 is chosen as the best model and for working with similar datasets.\n"
   ]
  },
  {
   "cell_type": "markdown",
   "metadata": {
    "run_control": {
     "marked": true
    }
   },
   "source": [
    "### 6.\tSummary Key Findings and Insights\n",
    "- This project is focused on the identifying geometric shapes.\n",
    "- The idea includes ~15000 images of 4 different shapes: square, star, circle, and triangle.\n",
    "- Images needs some pre-processing before using the neural network models: resizing and flattening.\n",
    "- 3 neural network architectures have been tested:\n",
    "    1. Simple Sequential Neural Network without hidden layers\n",
    "    2. Sequential Neural Network with hidden layers\n",
    "    3. Sequential Convolutional Neural Network\n",
    "- Convolutional Neural Networks are proven to be more efficinet with images.\n",
    "\n"
   ]
  },
  {
   "cell_type": "markdown",
   "metadata": {
    "run_control": {
     "marked": true
    }
   },
   "source": [
    "### 7.\tSuggestions for next steps in analyzing this data:\n",
    "\n",
    "To further analyze this dataset, the follwoing items can be done:\n",
    "\n",
    "- Trying different optimizers (instead of rmsprop), and/or different hyperparameters for the optimizers\n",
    "\n",
    "- Optimizing neural network architectures by:\n",
    "    + activation fucntions\n",
    "    + number of layers\n",
    "    + nodes per layer\n",
    "    + layer types\n",
    "\n",
    "- Given the high accuracy of the trained models, it might be possible to further simplify the models (without losing much predictive accuracy). This can result in much less use of computational power and time for training the models. "
   ]
  },
  {
   "cell_type": "code",
   "execution_count": null,
   "metadata": {},
   "outputs": [],
   "source": []
  }
 ],
 "metadata": {
  "anaconda-cloud": {},
  "kernelspec": {
   "display_name": "Python 3",
   "language": "python",
   "name": "python3"
  },
  "language_info": {
   "codemirror_mode": {
    "name": "ipython",
    "version": 3
   },
   "file_extension": ".py",
   "mimetype": "text/x-python",
   "name": "python",
   "nbconvert_exporter": "python",
   "pygments_lexer": "ipython3",
   "version": "3.6.7"
  }
 },
 "nbformat": 4,
 "nbformat_minor": 4
}
