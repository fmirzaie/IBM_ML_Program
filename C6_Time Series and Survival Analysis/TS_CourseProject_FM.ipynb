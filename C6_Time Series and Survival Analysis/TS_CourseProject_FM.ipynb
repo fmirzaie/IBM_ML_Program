{
 "cells": [
  {
   "cell_type": "markdown",
   "metadata": {
    "run_control": {
     "marked": true
    }
   },
   "source": [
    "# Time Series and Survival Analysis\n",
    "\n",
    "## Course Project - FM [Date: July 2021]"
   ]
  },
  {
   "cell_type": "markdown",
   "metadata": {
    "run_control": {
     "marked": true
    }
   },
   "source": [
    "### Required Tasks:\n",
    "1.\tMain objective of the analysis that also specifies whether your model will be focused on a specific type of Time Series, Survival Analysis, or Deep Learning and the benefits that your analysis brings to the business or stakeholders of this data.\n",
    "2.\tBrief description of the data set you chose, a summary of its attributes, and an outline of what you are trying to accomplish with this analysis.\n",
    "3.\tBrief summary of data exploration and actions taken for data cleaning or feature engineering.\n",
    "4.\tSummary of training at least three variations of the Time Series, Survival Analysis, or Deep Learning model you selected. For example, you can use different models or different hyperparameters.\n",
    "5.\tA paragraph explaining which of your models you recommend as a final model that best fits your needs in terms of accuracy or explainability.\n",
    "6.\tSummary Key Findings and Insights, which walks your reader through the main findings of your modeling exercise.\n",
    "7.\tSuggestions for next steps in analyzing this data, which may include suggesting revisiting this model or adding specific data features to achieve a better model.\n",
    "\n",
    "\n"
   ]
  },
  {
   "cell_type": "markdown",
   "metadata": {
    "run_control": {
     "marked": true
    }
   },
   "source": [
    "### 1. Main Objectives\n",
    "\n",
    "This project is focused on forecasting Time Series using the Time Series forecasting methods and approaches presented in this course. For this purpose, we are going to use Gold price index historical dataset (described below).\n"
   ]
  },
  {
   "cell_type": "markdown",
   "metadata": {
    "run_control": {
     "marked": true
    }
   },
   "source": [
    "### 2. DATASET Description\n",
    "\n",
    "The chosen dataset contains NASDAQ index value from 2000 to 2021. This dataset has 7 columns:\n",
    "- Date: daily (except for holidays)\n",
    "- Open: Nasdaq index at market opening\n",
    "- High: Nasdaq index highest value (during the day)\n",
    "- Low:  Nasdaq index lowest value (during the day)\n",
    "- Close: Nasdaq index at market close\n",
    "- Adj Close: Adjusted Nasdaq index at market close\n",
    "- Volume: trade volume per day\n",
    "\n",
    "\n",
    "(The dataset can be downloaded from: https://finance.yahoo.com/)\n"
   ]
  },
  {
   "cell_type": "markdown",
   "metadata": {
    "run_control": {
     "marked": true
    }
   },
   "source": [
    "## 3.1. Brief summary of data exploration:\n",
    "The goal in this section is to better understand the amount and type of information available in the dataset. For this purpose, after importing the needed packages such as numpy, pandas, matplotlib, we will load the dataset and look historical charts to see if we can detect any visual pattern in the data.\n"
   ]
  },
  {
   "cell_type": "code",
   "execution_count": 30,
   "metadata": {},
   "outputs": [],
   "source": [
    "# importing needed packages\n",
    "import numpy as np\n",
    "import pandas as pd\n",
    "import matplotlib.pyplot as plt\n",
    "%matplotlib inline\n",
    "from datetime import datetime"
   ]
  },
  {
   "cell_type": "code",
   "execution_count": 31,
   "metadata": {
    "ExecuteTime": {
     "end_time": "2017-03-19T23:17:21.954025Z",
     "start_time": "2017-03-19T19:17:21.936220-04:00"
    },
    "jupyter": {
     "outputs_hidden": false
    },
    "run_control": {
     "marked": true
    }
   },
   "outputs": [
    {
     "data": {
      "text/plain": [
       "Index(['Date', 'Open', 'High', 'Low', 'Close', 'Adj Close', 'Volume'], dtype='object')"
      ]
     },
     "execution_count": 31,
     "metadata": {},
     "output_type": "execute_result"
    }
   ],
   "source": [
    "# loading dataset\n",
    "data = pd.read_csv(\"data/goldprice.csv\")\n",
    "data.columns"
   ]
  },
  {
   "cell_type": "markdown",
   "metadata": {},
   "source": [
    "\n",
    "here we are going to:\n",
    "- use 'Date' column as index\n",
    "- use 'Adj Close' column as our time series value, and rename it to \"price\"\n"
   ]
  },
  {
   "cell_type": "code",
   "execution_count": 32,
   "metadata": {
    "ExecuteTime": {
     "end_time": "2017-03-19T23:17:24.151607Z",
     "start_time": "2017-03-19T19:17:24.105167-04:00"
    },
    "jupyter": {
     "outputs_hidden": false
    },
    "run_control": {
     "marked": true
    }
   },
   "outputs": [
    {
     "data": {
      "text/html": [
       "<div>\n",
       "<style scoped>\n",
       "    .dataframe tbody tr th:only-of-type {\n",
       "        vertical-align: middle;\n",
       "    }\n",
       "\n",
       "    .dataframe tbody tr th {\n",
       "        vertical-align: top;\n",
       "    }\n",
       "\n",
       "    .dataframe thead th {\n",
       "        text-align: right;\n",
       "    }\n",
       "</style>\n",
       "<table border=\"1\" class=\"dataframe\">\n",
       "  <thead>\n",
       "    <tr style=\"text-align: right;\">\n",
       "      <th></th>\n",
       "      <th>price</th>\n",
       "    </tr>\n",
       "    <tr>\n",
       "      <th>Date</th>\n",
       "      <th></th>\n",
       "    </tr>\n",
       "  </thead>\n",
       "  <tbody>\n",
       "    <tr>\n",
       "      <th>2000-08-30</th>\n",
       "      <td>273.899994</td>\n",
       "    </tr>\n",
       "    <tr>\n",
       "      <th>2000-08-31</th>\n",
       "      <td>278.299988</td>\n",
       "    </tr>\n",
       "    <tr>\n",
       "      <th>2000-09-01</th>\n",
       "      <td>277.000000</td>\n",
       "    </tr>\n",
       "    <tr>\n",
       "      <th>2000-09-04</th>\n",
       "      <td>NaN</td>\n",
       "    </tr>\n",
       "    <tr>\n",
       "      <th>2000-09-05</th>\n",
       "      <td>275.799988</td>\n",
       "    </tr>\n",
       "    <tr>\n",
       "      <th>2000-09-06</th>\n",
       "      <td>274.200012</td>\n",
       "    </tr>\n",
       "    <tr>\n",
       "      <th>2000-09-07</th>\n",
       "      <td>274.000000</td>\n",
       "    </tr>\n",
       "    <tr>\n",
       "      <th>2000-09-08</th>\n",
       "      <td>273.299988</td>\n",
       "    </tr>\n",
       "    <tr>\n",
       "      <th>2000-09-11</th>\n",
       "      <td>273.100006</td>\n",
       "    </tr>\n",
       "    <tr>\n",
       "      <th>2000-09-12</th>\n",
       "      <td>272.899994</td>\n",
       "    </tr>\n",
       "  </tbody>\n",
       "</table>\n",
       "</div>"
      ],
      "text/plain": [
       "                 price\n",
       "Date                  \n",
       "2000-08-30  273.899994\n",
       "2000-08-31  278.299988\n",
       "2000-09-01  277.000000\n",
       "2000-09-04         NaN\n",
       "2000-09-05  275.799988\n",
       "2000-09-06  274.200012\n",
       "2000-09-07  274.000000\n",
       "2000-09-08  273.299988\n",
       "2000-09-11  273.100006\n",
       "2000-09-12  272.899994"
      ]
     },
     "execution_count": 32,
     "metadata": {},
     "output_type": "execute_result"
    }
   ],
   "source": [
    "\n",
    "\n",
    "df = data[['Date','Adj Close']].copy()\n",
    "df['Date'] = pd.to_datetime(df['Date']).dt.date\n",
    "df.set_index('Date', inplace=True)\n",
    "\n",
    "df.rename(columns={'Adj Close':'price'},inplace=True)\n",
    "df.head(10)"
   ]
  },
  {
   "cell_type": "markdown",
   "metadata": {
    "run_control": {
     "marked": true
    }
   },
   "source": [
    "### 3.2. Actions taken for data cleaning and feature engineering:\n",
    "as we saw, there are missing values in the Dates and null values in the prices. in this section:\n",
    "- first, we create a new index with no missing values\n",
    "- then, we fill the NaN values using linear interpolation\n"
   ]
  },
  {
   "cell_type": "code",
   "execution_count": 33,
   "metadata": {},
   "outputs": [
    {
     "name": "stdout",
     "output_type": "stream",
     "text": [
      "\n",
      "Unique dates in our data:  5321 Days\n",
      "Total days in our date range: 7631 Days\n",
      "null values:  113\n"
     ]
    }
   ],
   "source": [
    "# as we can see, there are missing values in the Dates and null values in the prices.\n",
    "print('\\nUnique dates in our data: ', len(df.index.unique()), 'Days')\n",
    "our_date_range = df.index.max() - df.index.min()\n",
    "print('Total days in our date range:', our_date_range.days, 'Days')\n",
    "print(\"null values: \",df.price.isna().sum())\n"
   ]
  },
  {
   "cell_type": "code",
   "execution_count": 34,
   "metadata": {},
   "outputs": [],
   "source": [
    "#We can generate a complete new index\n",
    "new_index = pd.date_range(df.index.min(), df.index.max())\n",
    "df = df.reindex(new_index, fill_value=np.nan)"
   ]
  },
  {
   "cell_type": "code",
   "execution_count": 35,
   "metadata": {},
   "outputs": [
    {
     "data": {
      "text/html": [
       "<div>\n",
       "<style scoped>\n",
       "    .dataframe tbody tr th:only-of-type {\n",
       "        vertical-align: middle;\n",
       "    }\n",
       "\n",
       "    .dataframe tbody tr th {\n",
       "        vertical-align: top;\n",
       "    }\n",
       "\n",
       "    .dataframe thead th {\n",
       "        text-align: right;\n",
       "    }\n",
       "</style>\n",
       "<table border=\"1\" class=\"dataframe\">\n",
       "  <thead>\n",
       "    <tr style=\"text-align: right;\">\n",
       "      <th></th>\n",
       "      <th>price</th>\n",
       "    </tr>\n",
       "  </thead>\n",
       "  <tbody>\n",
       "    <tr>\n",
       "      <th>2000-08-30</th>\n",
       "      <td>273.899994</td>\n",
       "    </tr>\n",
       "    <tr>\n",
       "      <th>2000-08-31</th>\n",
       "      <td>278.299988</td>\n",
       "    </tr>\n",
       "    <tr>\n",
       "      <th>2000-09-01</th>\n",
       "      <td>277.000000</td>\n",
       "    </tr>\n",
       "    <tr>\n",
       "      <th>2000-09-02</th>\n",
       "      <td>276.699997</td>\n",
       "    </tr>\n",
       "    <tr>\n",
       "      <th>2000-09-03</th>\n",
       "      <td>276.399994</td>\n",
       "    </tr>\n",
       "  </tbody>\n",
       "</table>\n",
       "</div>"
      ],
      "text/plain": [
       "                 price\n",
       "2000-08-30  273.899994\n",
       "2000-08-31  278.299988\n",
       "2000-09-01  277.000000\n",
       "2000-09-02  276.699997\n",
       "2000-09-03  276.399994"
      ]
     },
     "execution_count": 35,
     "metadata": {},
     "output_type": "execute_result"
    }
   ],
   "source": [
    "# interpolating NaN values\n",
    "df['price'] = df['price'].interpolate()\n",
    "df.head()"
   ]
  },
  {
   "cell_type": "markdown",
   "metadata": {},
   "source": [
    "now that there is no missing dates, and null values in the dataset, we will plot the data."
   ]
  },
  {
   "cell_type": "code",
   "execution_count": 36,
   "metadata": {
    "ExecuteTime": {
     "end_time": "2017-03-19T23:17:24.151607Z",
     "start_time": "2017-03-19T19:17:24.105167-04:00"
    },
    "jupyter": {
     "outputs_hidden": false
    },
    "run_control": {
     "marked": true
    }
   },
   "outputs": [
    {
     "data": {
      "image/png": "[encoded data removed]",
      "text/plain": [
       "<Figure size 432x288 with 1 Axes>"
      ]
     },
     "metadata": {
      "needs_background": "light"
     },
     "output_type": "display_data"
    }
   ],
   "source": [
    "\n",
    "# plotting data\n",
    "def run_sequence_plot(x, y, xlabel=\"Date\", ylabel=\"\"):\n",
    "    plt.plot(x, y, 'b-')\n",
    "    plt.xlabel(xlabel)\n",
    "    plt.ylabel(ylabel)\n",
    "    plt.grid(alpha=0.3)\n",
    "    \n",
    "run_sequence_plot(df.index, df.price,ylabel='Gold Price [USD]')\n"
   ]
  },
  {
   "cell_type": "markdown",
   "metadata": {},
   "source": [
    "### 3.3. stationarity test\n",
    "in this section, we perform adfuller test to examine the stationarity of the data. Although, visual inspection of the historical plot shows that the data is not stationary. \n",
    "\n"
   ]
  },
  {
   "cell_type": "code",
   "execution_count": 37,
   "metadata": {
    "ExecuteTime": {
     "end_time": "2017-03-19T23:17:24.151607Z",
     "start_time": "2017-03-19T19:17:24.105167-04:00"
    },
    "jupyter": {
     "outputs_hidden": false
    },
    "run_control": {
     "marked": true
    }
   },
   "outputs": [
    {
     "name": "stdout",
     "output_type": "stream",
     "text": [
      "for price:\n",
      "ADF:  -0.8124442976591503\n",
      "p-value: 0.8154392912250381\n"
     ]
    }
   ],
   "source": [
    "from statsmodels.tsa.stattools import adfuller\n",
    "adf, pvalue, usedlag, nobs, critical_values, icbest = adfuller(df.price, regression='c')\n",
    "print(\"for price:\")\n",
    "print(\"ADF: \", adf)\n",
    "print(\"p-value:\", pvalue)"
   ]
  },
  {
   "cell_type": "markdown",
   "metadata": {},
   "source": [
    "as expected, p-value >> .05, so we accept the null: data is non-stationary"
   ]
  },
  {
   "cell_type": "markdown",
   "metadata": {
    "run_control": {
     "marked": true
    }
   },
   "source": [
    "### 4.\tTraining 3 Models\n",
    "\n",
    "in this section, we will try 3 different models for forecasting the data.\n",
    "- we will use 11 months of data for predicting 30 days into future.\n",
    "- SARIMA models are used.\n",
    "- for measuring the forecast accuracy, we define an RMSE function\n"
   ]
  },
  {
   "cell_type": "code",
   "execution_count": 38,
   "metadata": {},
   "outputs": [],
   "source": [
    "#train/test split\n",
    "\n",
    "y = df.price\n",
    "y_train = y[-365:-30]\n",
    "y_test = y[-30:]\n",
    "\n",
    "# RMSE\n",
    "def rmse(y_test,y_pred):\n",
    "    return np.sqrt(np.sum((y_test-y_pred)**2))"
   ]
  },
  {
   "cell_type": "code",
   "execution_count": 39,
   "metadata": {},
   "outputs": [
    {
     "name": "stdout",
     "output_type": "stream",
     "text": [
      "RMSE for model 1: 53.0\n"
     ]
    },
    {
     "data": {
      "image/png": "[encoded data removed]",
      "text/plain": [
       "<Figure size 432x288 with 1 Axes>"
      ]
     },
     "metadata": {
      "needs_background": "light"
     },
     "output_type": "display_data"
    }
   ],
   "source": [
    "### 4.1. model 1\n",
    "# from statsmodels.tsa.statespace.sarimax import SARIMAX\n",
    "import statsmodels.api as sm\n",
    "\n",
    "sar1 = sm.tsa.statespace.SARIMAX(y_train,\n",
    "                                order=(2,0,0),\n",
    "                                seasonal_order=(0,0,0,0),\n",
    "                                trend='c').fit()\n",
    "sar1.summary()\n",
    "# sar1.plot_diagnostics(lags=12,figsize = (20,10),)\n",
    "\n",
    "future_fcst = sar1.get_forecast(30)\n",
    "confidence_int = future_fcst.conf_int(alpha = 0.01)\n",
    "y_sar1 = future_fcst.predicted_mean\n",
    "\n",
    "plt.plot(y_train,'b', label = 'train')\n",
    "plt.plot(y_test,'r' , label='test_actual')\n",
    "plt.plot(y_sar1,'g' ,linestyle=\":\",label='test_forecast')\n",
    "plt.fill_between(confidence_int.index,confidence_int['lower price'],confidence_int['upper price'],alpha = 0.3,color='g')\n",
    "plt.grid()\n",
    "print(\"RMSE for model 1: {:.1f}\".format(rmse(y_test,y_sar1)))"
   ]
  },
  {
   "cell_type": "code",
   "execution_count": 40,
   "metadata": {},
   "outputs": [
    {
     "name": "stdout",
     "output_type": "stream",
     "text": [
      "RMSE for model 2: 310.3\n"
     ]
    },
    {
     "data": {
      "image/png": "[encoded data removed]",
      "text/plain": [
       "<Figure size 432x288 with 1 Axes>"
      ]
     },
     "metadata": {
      "needs_background": "light"
     },
     "output_type": "display_data"
    }
   ],
   "source": [
    "\n",
    "#model 2:\n",
    "sar2 = sm.tsa.statespace.SARIMAX(y_train,\n",
    "                                order=(0,0,2),\n",
    "                                seasonal_order=(0,0,0,0),\n",
    "                                trend='c').fit()\n",
    "# sar2.summary()\n",
    "# sar2.plot_diagnostics(lags=12,figsize = (20,10),)\n",
    "\n",
    "future_fcst = sar2.get_forecast(30)\n",
    "confidence_int = future_fcst.conf_int(alpha = 0.01)\n",
    "y_sar2 = future_fcst.predicted_mean\n",
    "\n",
    "plt.plot(y_train,'b', label = 'train')\n",
    "plt.plot(y_test,'r' , label='test_actual')\n",
    "plt.plot(y_sar2,'g' ,linestyle=\":\",label='test_forecast')\n",
    "plt.fill_between(confidence_int.index,confidence_int['lower price'],confidence_int['upper price'],alpha = 0.3,color='g')\n",
    "plt.grid()\n",
    "print(\"RMSE for model 2: {:.1f}\".format(rmse(y_test,y_sar2)))"
   ]
  },
  {
   "cell_type": "code",
   "execution_count": 41,
   "metadata": {},
   "outputs": [
    {
     "name": "stdout",
     "output_type": "stream",
     "text": [
      "RMSE for model 3: 187.9\n"
     ]
    },
    {
     "name": "stderr",
     "output_type": "stream",
     "text": [
      "c:\\users\\fmirzaie\\fmprograms\\python\\python36\\lib\\site-packages\\statsmodels\\base\\model.py:568: ConvergenceWarning: Maximum Likelihood optimization failed to converge. Check mle_retvals\n",
      "  ConvergenceWarning)\n"
     ]
    },
    {
     "data": {
      "image/png": "[encoded data removed]",
      "text/plain": [
       "<Figure size 432x288 with 1 Axes>"
      ]
     },
     "metadata": {
      "needs_background": "light"
     },
     "output_type": "display_data"
    }
   ],
   "source": [
    "\n",
    "#model 3:\n",
    "sar3 = sm.tsa.statespace.SARIMAX(y_train,\n",
    "                                order=(2,1,2),\n",
    "                                seasonal_order=(0,0,0,0),\n",
    "                                trend='c').fit()\n",
    "# sar3.summary()\n",
    "# sar3.plot_diagnostics(lags=12,figsize = (20,10),)\n",
    "\n",
    "future_fcst = sar3.get_forecast(30)\n",
    "confidence_int = future_fcst.conf_int(alpha = 0.01)\n",
    "y_sar3 = future_fcst.predicted_mean\n",
    "\n",
    "plt.plot(y_train,'b', label = 'train')\n",
    "plt.plot(y_test,'r' , label='test_actual')\n",
    "plt.plot(y_sar3,'g' ,linestyle=\":\",label='test_forecast')\n",
    "plt.fill_between(confidence_int.index,confidence_int['lower price'],confidence_int['upper price'],alpha = 0.3,color='g')\n",
    "plt.grid()\n",
    "print(\"RMSE for model 3: {:.1f}\".format(rmse(y_test,y_sar3)))"
   ]
  },
  {
   "cell_type": "markdown",
   "metadata": {
    "run_control": {
     "marked": true
    }
   },
   "source": [
    "### 5.\tFinal model recommendation\n",
    "Comparing the results, model 1 is chosen as the best model and for forecasting the data, as it has the lowest RMSE.\n",
    "\n"
   ]
  },
  {
   "cell_type": "markdown",
   "metadata": {
    "run_control": {
     "marked": true
    }
   },
   "source": [
    "### 6.\tSummary Key Findings and Insights\n",
    "- This project is focused on the forecasting data using SARIMA models.\n",
    "- historical gold price data from 2000 to 2021 is chosen for this project\n",
    "- dataset is not stationary.\n",
    "- 3 SARIMA models have been tested\n",
    "- model 2 captures the trend in the data.\n"
   ]
  },
  {
   "cell_type": "markdown",
   "metadata": {
    "run_control": {
     "marked": true
    }
   },
   "source": [
    "### 7.\tSuggestions for next steps in analyzing this data:\n",
    "\n",
    "To further analyze this dataset, the follwoing items can be done:\n",
    "\n",
    "- Test this model for various test sets. here only one test set (i.e. the last 30 days) is used.\n",
    "- Deep learning approaches, especially RNNs and LSTM networks can be used for forecasting the data.\n"
   ]
  },
  {
   "cell_type": "code",
   "execution_count": null,
   "metadata": {},
   "outputs": [],
   "source": []
  }
 ],
 "metadata": {
  "anaconda-cloud": {},
  "kernelspec": {
   "display_name": "Python 3",
   "language": "python",
   "name": "python3"
  },
  "language_info": {
   "codemirror_mode": {
    "name": "ipython",
    "version": 3
   },
   "file_extension": ".py",
   "mimetype": "text/x-python",
   "name": "python",
   "nbconvert_exporter": "python",
   "pygments_lexer": "ipython3",
   "version": "3.6.7"
  }
 },
 "nbformat": 4,
 "nbformat_minor": 4
}
